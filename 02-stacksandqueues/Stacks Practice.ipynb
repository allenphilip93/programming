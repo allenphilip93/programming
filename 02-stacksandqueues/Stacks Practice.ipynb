{
 "cells": [
  {
   "cell_type": "code",
   "execution_count": 1,
   "metadata": {
    "collapsed": false
   },
   "outputs": [
    {
     "name": "stdout",
     "output_type": "stream",
     "text": [
      "5\n",
      "1 2 3 4 5\n"
     ]
    },
    {
     "ename": "SyntaxError",
     "evalue": "invalid syntax (<string>, line 1)",
     "output_type": "error",
     "traceback": [
      "\u001b[0;36m  File \u001b[0;32m\"<string>\"\u001b[0;36m, line \u001b[0;32m1\u001b[0m\n\u001b[0;31m    1 2 3 4 5\u001b[0m\n\u001b[0m      ^\u001b[0m\n\u001b[0;31mSyntaxError\u001b[0m\u001b[0;31m:\u001b[0m invalid syntax\n"
     ]
    }
   ],
   "source": [
    "#!/bin/python3\n",
    "\n",
    "import math\n",
    "import os\n",
    "import random\n",
    "import re\n",
    "import sys\n",
    "\n",
    "# Complete the largestRectangle function below.\n",
    "def largestRectangle(h):\n",
    "    # stack to maintain all unsolved subproblems\n",
    "    stack = []\n",
    "    # maxSumVal\n",
    "    maxSumVal = 0\n",
    "\n",
    "    for index in range(len(h)):\n",
    "        # if stack is empty, push and continue\n",
    "        if len(stack) == 0 :\n",
    "            stack.append(index)\n",
    "            continue\n",
    "\n",
    "        # if not check with top element\n",
    "        curr = stack[-1]\n",
    "        # if top elem is larger than curr elem then few subproblems gets solved\n",
    "        if curr > h[index] :\n",
    "            while h[curr] > h[index] and len(stack) > 0:\n",
    "                stack.pop()\n",
    "                leftIndex = 0 if len(stack) == 0 else stack[-1]\n",
    "                sumVal = h[curr] * (index - (leftIndex+1))\n",
    "                maxSumVal = max(sumVal, maxSumVal)\n",
    "                curr = leftIndex\n",
    "        # append current index to the stack\n",
    "        stack.append(index)\n",
    "    while len(stack) > 0 :\n",
    "        curr = stack.pop()\n",
    "        leftIndex = 0 if len(stack) == 0 else stack[-1]\n",
    "        sumVal = h[curr] * (len(h) - (leftIndex+1))\n",
    "        maxSumVal = max(sumVal, maxSumVal)\n",
    "        curr = leftIndex\n",
    "    return maxSumVal\n",
    "\n",
    "\n",
    "\n",
    "if __name__ == '__main__':\n",
    "    n = int(input())\n",
    "\n",
    "    h = list(map(int, input().rstrip().split()))\n",
    "\n",
    "    result = largestRectangle(h)\n",
    "\n",
    "    print (result)\n"
   ]
  },
  {
   "cell_type": "code",
   "execution_count": 2,
   "metadata": {
    "collapsed": true
   },
   "outputs": [],
   "source": [
    "a = [1, 2, 4,5]"
   ]
  },
  {
   "cell_type": "code",
   "execution_count": 3,
   "metadata": {
    "collapsed": false
   },
   "outputs": [
    {
     "data": {
      "text/plain": [
       "4"
      ]
     },
     "execution_count": 3,
     "metadata": {},
     "output_type": "execute_result"
    }
   ],
   "source": [
    "a [2]"
   ]
  },
  {
   "cell_type": "code",
   "execution_count": null,
   "metadata": {
    "collapsed": true
   },
   "outputs": [],
   "source": []
  }
 ],
 "metadata": {
  "kernelspec": {
   "display_name": "Python 2",
   "language": "python",
   "name": "python2"
  },
  "language_info": {
   "codemirror_mode": {
    "name": "ipython",
    "version": 2
   },
   "file_extension": ".py",
   "mimetype": "text/x-python",
   "name": "python",
   "nbconvert_exporter": "python",
   "pygments_lexer": "ipython2",
   "version": "2.7.10"
  }
 },
 "nbformat": 4,
 "nbformat_minor": 1
}
