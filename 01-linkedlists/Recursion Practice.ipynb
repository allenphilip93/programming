{
 "cells": [
  {
   "cell_type": "code",
   "execution_count": 14,
   "metadata": {},
   "outputs": [
    {
     "name": "stdout",
     "output_type": "stream",
     "text": [
      "1\n",
      "15\n",
      "Updated for n = 1\n",
      "Updated for n = 2\n",
      "Updated for n = 3\n",
      "Updated for n = 4\n",
      "Updated for n = 5\n",
      "Updated for n = 6\n",
      "Updated for n = 7\n",
      "Updated for n = 8\n",
      "Updated for n = 9\n",
      "Updated for n = 10\n",
      "Updated for n = 11\n",
      "Updated for n = 12\n",
      "Updated for n = 13\n",
      "Updated for n = 14\n",
      "Updated for n = 15\n",
      "5768\n"
     ]
    }
   ],
   "source": [
    "#!/bin/python3\n",
    "\n",
    "import math\n",
    "import os\n",
    "import random\n",
    "import re\n",
    "import sys\n",
    "\n",
    "# Complete the stepPerms function below.\n",
    "def stepPerms(n, stepVals):\n",
    "    if n < 0 :\n",
    "        return 0\n",
    "    if n == 0 :\n",
    "        return 1\n",
    "    else :\n",
    "        v1 = stepVals[n-1] if stepVals[n-1] != 0 else stepPerms(n-1, stepVals)\n",
    "        v2 = stepVals[n-2] if stepVals[n-2] != 0 else stepPerms(n-2, stepVals)\n",
    "        v3 = stepVals[n-3] if stepVals[n-3] != 0 else stepPerms(n-3, stepVals)\n",
    "        val = (v1 + v2 + v3)%10000000007\n",
    "        stepVals[n] = val\n",
    "    return stepVals[n]\n",
    "\n",
    "if __name__ == '__main__':\n",
    "    s = int(input())\n",
    "    for s_itr in range(s):\n",
    "        n = int(input())\n",
    "        stepVals = [0] * (n+1)\n",
    "        res = stepPerms(n, stepVals)\n",
    "        print (res)"
   ]
  },
  {
   "cell_type": "code",
   "execution_count": 10,
   "metadata": {},
   "outputs": [
    {
     "data": {
      "text/plain": [
       "[0, 0, 0, 0, 0]"
      ]
     },
     "execution_count": 10,
     "metadata": {},
     "output_type": "execute_result"
    }
   ],
   "source": [
    "stepVals"
   ]
  },
  {
   "cell_type": "code",
   "execution_count": 16,
   "metadata": {},
   "outputs": [
    {
     "name": "stdout",
     "output_type": "stream",
     "text": [
      "Hey!\n",
      "Hey!\n",
      "Hey!\n",
      "2\n"
     ]
    }
   ],
   "source": [
    "for i in range(3):\n",
    "    print (\"Hey!\")\n",
    "\n",
    "print (str(i))"
   ]
  },
  {
   "cell_type": "code",
   "execution_count": null,
   "metadata": {},
   "outputs": [],
   "source": []
  }
 ],
 "metadata": {
  "kernelspec": {
   "display_name": "Python 3",
   "language": "python",
   "name": "python3"
  },
  "language_info": {
   "codemirror_mode": {
    "name": "ipython",
    "version": 3
   },
   "file_extension": ".py",
   "mimetype": "text/x-python",
   "name": "python",
   "nbconvert_exporter": "python",
   "pygments_lexer": "ipython3",
   "version": "3.7.0"
  }
 },
 "nbformat": 4,
 "nbformat_minor": 2
}
